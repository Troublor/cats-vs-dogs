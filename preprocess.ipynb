{
 "cells": [
  {
   "cell_type": "code",
   "execution_count": 1,
   "metadata": {
    "collapsed": true
   },
   "outputs": [],
   "source": [
    "from os import path\n",
    "import os"
   ]
  },
  {
   "cell_type": "code",
   "execution_count": 2,
   "outputs": [],
   "source": [
    "data_dir = path.join('data', 'large_set')\n",
    "raw_dir = path.join(data_dir, '..', 'train')\n",
    "cat_dir = path.join(data_dir, 'cat')\n",
    "dog_dir = path.join(data_dir, 'dog')\n",
    "if not path.exists(cat_dir):\n",
    "    os.mkdir(cat_dir)\n",
    "if not path.exists(dog_dir):\n",
    "    os.mkdir(dog_dir)\n",
    "for file in os.listdir(raw_dir):\n",
    "    if file.startswith('cat'):\n",
    "        os.rename(path.join(raw_dir, file), path.join(cat_dir, file))\n",
    "    elif file.startswith('dog'):\n",
    "        os.rename(path.join(raw_dir, file), path.join(dog_dir, file))\n",
    "    else:\n",
    "        print(\"unclassified file:\", file)"
   ],
   "metadata": {
    "collapsed": false,
    "pycharm": {
     "name": "#%%\n"
    }
   }
  }
 ],
 "metadata": {
  "kernelspec": {
   "display_name": "Python 3",
   "language": "python",
   "name": "python3"
  },
  "language_info": {
   "codemirror_mode": {
    "name": "ipython",
    "version": 2
   },
   "file_extension": ".py",
   "mimetype": "text/x-python",
   "name": "python",
   "nbconvert_exporter": "python",
   "pygments_lexer": "ipython2",
   "version": "2.7.6"
  }
 },
 "nbformat": 4,
 "nbformat_minor": 0
}